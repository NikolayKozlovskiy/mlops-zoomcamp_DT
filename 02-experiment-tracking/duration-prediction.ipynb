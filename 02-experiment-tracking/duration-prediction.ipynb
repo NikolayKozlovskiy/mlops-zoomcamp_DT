{
 "cells": [
  {
   "cell_type": "code",
   "execution_count": 47,
   "id": "41062d8a",
   "metadata": {},
   "outputs": [],
   "source": [
    "import os\n",
    "import pandas as pd\n",
    "import pickle\n",
    "import seaborn as sns\n",
    "import matplotlib.pyplot as plt\n",
    "from sklearn.feature_extraction import DictVectorizer\n",
    "from sklearn.linear_model import LinearRegression\n",
    "from sklearn.linear_model import Lasso\n",
    "from sklearn.linear_model import Ridge\n",
    "\n",
    "from sklearn.metrics import mean_squared_error\n",
    "import mlflow\n",
    "from mlflow.tracking import MlflowClient"
   ]
  },
  {
   "cell_type": "code",
   "execution_count": 48,
   "id": "ea5d4200",
   "metadata": {},
   "outputs": [
    {
     "name": "stdout",
     "output_type": "stream",
     "text": [
      "Absolute Tracking URI: sqlite:////Users/nikolaykozlovskiy/Documents/mlops-zoomcamp_DT/02-experiment-tracking/mlflow.db\n"
     ]
    }
   ],
   "source": [
    "MLFLOW_TRACKING_URI = \"sqlite:///mlflow.db\"\n",
    "\n",
    "# Extract the path part from the tracking URI\n",
    "db_path = MLFLOW_TRACKING_URI.replace(\"sqlite:///\", \"\")\n",
    "\n",
    "# Get the absolute path\n",
    "absolute_db_path = os.path.abspath(db_path)\n",
    "absolute_tracking_uri = f\"sqlite:///{absolute_db_path}\"\n",
    "\n",
    "# Print the absolute path of the tracking URI\n",
    "print(\"Absolute Tracking URI:\", absolute_tracking_uri)"
   ]
  },
  {
   "cell_type": "code",
   "execution_count": 13,
   "id": "1a3e8138",
   "metadata": {},
   "outputs": [],
   "source": [
    "def print_run_info(runs):\n",
    "    for r in runs:\n",
    "        print(\"run_id: {}\".format(r.info.run_id))\n",
    "        print(\"lifecycle_stage: {}\".format(r.info.lifecycle_stage))\n",
    "        print(\"metrics: {}\".format(r.data.metrics))\n",
    "\n",
    "        # Exclude mlflow system tags\n",
    "        tags = {k: v for k, v in r.data.tags.items() if not k.startswith(\"mlflow.\")}\n",
    "        print(\"tags: {}\".format(tags))"
   ]
  },
  {
   "cell_type": "code",
   "execution_count": 44,
   "id": "8e1a2d43",
   "metadata": {},
   "outputs": [],
   "source": [
    "MLFLOW_TRACKING_URI = \"sqlite:///mlflow.db\"\n",
    "experiment_id = '1'\n",
    "client = MlflowClient(tracking_uri=MLFLOW_TRACKING_URI)"
   ]
  },
  {
   "cell_type": "code",
   "execution_count": 45,
   "id": "41b4abc3",
   "metadata": {},
   "outputs": [
    {
     "data": {
      "text/plain": [
       "'2'"
      ]
     },
     "execution_count": 45,
     "metadata": {},
     "output_type": "execute_result"
    }
   ],
   "source": [
    "client.create_experiment(\"test_2\")"
   ]
  },
  {
   "cell_type": "code",
   "execution_count": 46,
   "id": "d0fad9e4",
   "metadata": {},
   "outputs": [
    {
     "name": "stdout",
     "output_type": "stream",
     "text": [
      "2:test_2\n",
      "1:nyc-taxi-experiment\n",
      "0:Default\n"
     ]
    }
   ],
   "source": [
    "for experiment in client.search_experiments(): \n",
    "    print(f'{experiment.experiment_id}:{experiment.name}')"
   ]
  },
  {
   "cell_type": "code",
   "execution_count": 18,
   "id": "92f00e13",
   "metadata": {},
   "outputs": [
    {
     "name": "stdout",
     "output_type": "stream",
     "text": [
      "run_id: fb9fcfdb58984dc5aff61996d8a38237\n",
      "lifecycle_stage: active\n",
      "metrics: {'rmse': 5.176028795790886}\n",
      "tags: {'developer': 'nikolay', 'model': 'xgboost'}\n",
      "run_id: c12c2aa17f8d44018a0f5b172538a947\n",
      "lifecycle_stage: active\n",
      "metrics: {'rmse': 6.682970148789025}\n",
      "tags: {'developer': 'nikolay', 'model': 'xgboost'}\n",
      "run_id: 976d9123c3ef4efc818fd9d32983a159\n",
      "lifecycle_stage: deleted\n",
      "metrics: {}\n",
      "tags: {'developer': 'nikolay', 'model': 'xgboost'}\n",
      "run_id: 935d608fb2514f5fb03a6fac90c47d4f\n",
      "lifecycle_stage: active\n",
      "metrics: {'rmse': 9.242491841499588}\n",
      "tags: {'developer': 'nikolay'}\n"
     ]
    }
   ],
   "source": [
    "runs = client.search_runs(\n",
    "    experiment_id, \n",
    "    run_view_type=mlflow.entities.ViewType.ALL\n",
    ")\n",
    "print_run_info(runs)"
   ]
  },
  {
   "cell_type": "code",
   "execution_count": 19,
   "id": "1464985f",
   "metadata": {},
   "outputs": [
    {
     "data": {
      "text/plain": [
       "<Experiment: artifact_location='/Users/nikolaykozlovskiy/Documents/mlops-zoomcamp_DT/02-experiment-tracking/mlruns/1', creation_time=1716664218811, experiment_id='1', last_update_time=1716664218811, lifecycle_stage='active', name='nyc-taxi-experiment', tags={}>"
      ]
     },
     "execution_count": 19,
     "metadata": {},
     "output_type": "execute_result"
    }
   ],
   "source": [
    "mlflow.set_tracking_uri(\"sqlite:///mlflow.db\")\n",
    "mlflow.set_experiment(\"nyc-taxi-experiment\")"
   ]
  },
  {
   "cell_type": "code",
   "execution_count": 20,
   "id": "f9e6479e",
   "metadata": {},
   "outputs": [],
   "source": [
    "def read_dataframe(filename):\n",
    "    df = pd.read_parquet(filename)\n",
    "\n",
    "    df.lpep_dropoff_datetime = pd.to_datetime(df.lpep_dropoff_datetime)\n",
    "    df.lpep_pickup_datetime = pd.to_datetime(df.lpep_pickup_datetime)\n",
    "\n",
    "    df['duration'] = df.lpep_dropoff_datetime - df.lpep_pickup_datetime\n",
    "    df.duration = df.duration.apply(lambda td: td.total_seconds() / 60)\n",
    "\n",
    "    df = df[(df.duration >= 1) & (df.duration <= 60)]\n",
    "\n",
    "    categorical = ['PULocationID', 'DOLocationID']\n",
    "    df[categorical] = df[categorical].astype(str)\n",
    "    \n",
    "    return df"
   ]
  },
  {
   "cell_type": "code",
   "execution_count": 21,
   "id": "8029eba0",
   "metadata": {},
   "outputs": [],
   "source": [
    "df_train = read_dataframe('../data/green_tripdata_2023-01.parquet')\n",
    "df_val = read_dataframe('../data/green_tripdata_2023-02.parquet')"
   ]
  },
  {
   "cell_type": "code",
   "execution_count": 22,
   "id": "f6f2f0eb",
   "metadata": {},
   "outputs": [
    {
     "data": {
      "text/plain": [
       "(65946, 62574)"
      ]
     },
     "execution_count": 22,
     "metadata": {},
     "output_type": "execute_result"
    }
   ],
   "source": [
    "len(df_train), len(df_val)"
   ]
  },
  {
   "cell_type": "code",
   "execution_count": 25,
   "id": "951d51ef",
   "metadata": {},
   "outputs": [],
   "source": [
    "df_train['PU_DO'] = df_train['PULocationID'] + '_' + df_train['DOLocationID']\n",
    "df_val['PU_DO'] = df_val['PULocationID'] + '_' + df_val['DOLocationID']"
   ]
  },
  {
   "cell_type": "code",
   "execution_count": 26,
   "id": "c5cbfc25",
   "metadata": {},
   "outputs": [],
   "source": [
    "categorical = ['PU_DO'] #'PULocationID', 'DOLocationID']\n",
    "numerical = ['trip_distance']\n",
    "\n",
    "dv = DictVectorizer()\n",
    "\n",
    "train_dicts = df_train[categorical + numerical].to_dict(orient='records')\n",
    "X_train = dv.fit_transform(train_dicts)\n",
    "\n",
    "val_dicts = df_val[categorical + numerical].to_dict(orient='records')\n",
    "X_val = dv.transform(val_dicts)"
   ]
  },
  {
   "cell_type": "code",
   "execution_count": 27,
   "id": "1e9fb68b",
   "metadata": {},
   "outputs": [],
   "source": [
    "target = 'duration'\n",
    "y_train = df_train[target].values\n",
    "y_val = df_val[target].values"
   ]
  },
  {
   "cell_type": "code",
   "execution_count": 28,
   "id": "429e2394",
   "metadata": {},
   "outputs": [
    {
     "name": "stderr",
     "output_type": "stream",
     "text": [
      "/opt/homebrew/anaconda3/envs/mlops_zoomcamp_env/lib/python3.12/site-packages/sklearn/metrics/_regression.py:492: FutureWarning: 'squared' is deprecated in version 1.4 and will be removed in 1.6. To calculate the root mean squared error, use the function'root_mean_squared_error'.\n",
      "  warnings.warn(\n"
     ]
    },
    {
     "data": {
      "text/plain": [
       "6.037547854084554"
      ]
     },
     "execution_count": 28,
     "metadata": {},
     "output_type": "execute_result"
    }
   ],
   "source": [
    "lr = LinearRegression()\n",
    "lr.fit(X_train, y_train)\n",
    "\n",
    "y_pred = lr.predict(X_val)\n",
    "\n",
    "mean_squared_error(y_val, y_pred, squared=False)"
   ]
  },
  {
   "cell_type": "code",
   "execution_count": 23,
   "id": "22bf6f8b",
   "metadata": {},
   "outputs": [],
   "source": [
    "with open('models/lin_reg.bin', 'wb') as f_out:\n",
    "    pickle.dump((dv, lr), f_out)"
   ]
  },
  {
   "cell_type": "code",
   "execution_count": 31,
   "id": "a4999b94",
   "metadata": {},
   "outputs": [
    {
     "name": "stderr",
     "output_type": "stream",
     "text": [
      "/opt/homebrew/anaconda3/envs/mlops_zoomcamp_env/lib/python3.12/site-packages/sklearn/metrics/_regression.py:492: FutureWarning: 'squared' is deprecated in version 1.4 and will be removed in 1.6. To calculate the root mean squared error, use the function'root_mean_squared_error'.\n",
      "  warnings.warn(\n"
     ]
    }
   ],
   "source": [
    "with mlflow.start_run():\n",
    "\n",
    "    mlflow.set_tag(\"developer\", \"nikolay\")\n",
    "\n",
    "    mlflow.log_param(\"train-data-path\", \"../data/green_tripdata_2021-01.parquet\")\n",
    "    mlflow.log_param(\"valid-data-path\", \"../data/green_tripdata_2021-02.parquet\")\n",
    "\n",
    "    alpha = 0.1\n",
    "    mlflow.log_param(\"alpha\", alpha)\n",
    "    lr = Lasso(alpha)\n",
    "    lr.fit(X_train, y_train)\n",
    "\n",
    "    y_pred = lr.predict(X_val)\n",
    "    rmse = mean_squared_error(y_val, y_pred, squared=False)\n",
    "    mlflow.log_metric(\"rmse\", rmse)\n",
    "\n",
    "    mlflow.log_artifact(local_path=\"models/lin_reg.bin\", artifact_path=\"models_pickle\")"
   ]
  },
  {
   "cell_type": "code",
   "execution_count": null,
   "id": "47b0eb9b",
   "metadata": {},
   "outputs": [],
   "source": []
  },
  {
   "cell_type": "code",
   "execution_count": 49,
   "id": "5f56e97b",
   "metadata": {},
   "outputs": [],
   "source": [
    "import xgboost as xgb"
   ]
  },
  {
   "cell_type": "code",
   "execution_count": 50,
   "id": "907dc6a2",
   "metadata": {},
   "outputs": [],
   "source": [
    "from hyperopt import fmin, tpe, hp, STATUS_OK, Trials\n",
    "from hyperopt.pyll import scope"
   ]
  },
  {
   "cell_type": "code",
   "execution_count": 51,
   "id": "091ab328",
   "metadata": {},
   "outputs": [],
   "source": [
    "train = xgb.DMatrix(X_train, label=y_train)\n",
    "valid = xgb.DMatrix(X_val, label=y_val)"
   ]
  },
  {
   "cell_type": "code",
   "execution_count": 52,
   "id": "c2d84b26",
   "metadata": {},
   "outputs": [],
   "source": [
    "def objective(params):\n",
    "    with mlflow.start_run():\n",
    "        mlflow.set_tag(\"developer\", \"nikolay\")\n",
    "        mlflow.set_tag(\"model\", \"xgboost\")\n",
    "        mlflow.log_params(params)\n",
    "        booster = xgb.train(\n",
    "            params=params,\n",
    "            dtrain=train,\n",
    "            num_boost_round=10,\n",
    "            evals=[(valid, 'validation')],\n",
    "            early_stopping_rounds=5\n",
    "        )\n",
    "        y_pred = booster.predict(valid)\n",
    "        rmse = mean_squared_error(y_val, y_pred, squared=False)\n",
    "        mlflow.log_metric(\"rmse\", rmse)\n",
    "\n",
    "    return {'loss': rmse, 'status': STATUS_OK}"
   ]
  },
  {
   "cell_type": "code",
   "execution_count": 53,
   "id": "6b1f77f5",
   "metadata": {},
   "outputs": [
    {
     "name": "stdout",
     "output_type": "stream",
     "text": [
      "  0%|          | 0/30 [00:00<?, ?trial/s, best loss=?]"
     ]
    },
    {
     "name": "stderr",
     "output_type": "stream",
     "text": [
      "/opt/homebrew/anaconda3/envs/mlops_zoomcamp_env/lib/python3.12/site-packages/xgboost/core.py:160: UserWarning: [17:39:29] WARNING: /Users/runner/work/xgboost/xgboost/src/objective/regression_obj.cu:209: reg:linear is now deprecated in favor of reg:squarederror.\n",
      "  warnings.warn(smsg, UserWarning)\n",
      "\n"
     ]
    },
    {
     "name": "stdout",
     "output_type": "stream",
     "text": [
      "[0]\tvalidation-rmse:7.29959                           \n",
      "[1]\tvalidation-rmse:6.21780                           \n",
      "[2]\tvalidation-rmse:5.68107                           \n",
      "[3]\tvalidation-rmse:5.42287                           \n",
      "[4]\tvalidation-rmse:5.30145                           \n",
      "[5]\tvalidation-rmse:5.23982                           \n",
      "[6]\tvalidation-rmse:5.21370                           \n",
      "[7]\tvalidation-rmse:5.19944                           \n",
      "[8]\tvalidation-rmse:5.19059                           \n",
      "[9]\tvalidation-rmse:5.18544                           \n",
      "[0]\tvalidation-rmse:8.18252                                                    \n",
      "[1]\tvalidation-rmse:7.33988                                                    \n",
      "[2]\tvalidation-rmse:6.73149                                                    \n",
      "[3]\tvalidation-rmse:6.29780                                                    \n",
      "  3%|▎         | 1/30 [00:01<00:38,  1.34s/trial, best loss: 5.185443513807581]"
     ]
    },
    {
     "name": "stderr",
     "output_type": "stream",
     "text": [
      "/opt/homebrew/anaconda3/envs/mlops_zoomcamp_env/lib/python3.12/site-packages/sklearn/metrics/_regression.py:492: FutureWarning: 'squared' is deprecated in version 1.4 and will be removed in 1.6. To calculate the root mean squared error, use the function'root_mean_squared_error'.\n",
      "  warnings.warn(\n",
      "\n",
      "/opt/homebrew/anaconda3/envs/mlops_zoomcamp_env/lib/python3.12/site-packages/xgboost/core.py:160: UserWarning: [17:39:30] WARNING: /Users/runner/work/xgboost/xgboost/src/objective/regression_obj.cu:209: reg:linear is now deprecated in favor of reg:squarederror.\n",
      "  warnings.warn(smsg, UserWarning)\n",
      "\n"
     ]
    },
    {
     "name": "stdout",
     "output_type": "stream",
     "text": [
      "[4]\tvalidation-rmse:5.99134                                                    \n",
      "[5]\tvalidation-rmse:5.77424                                                    \n",
      "[6]\tvalidation-rmse:5.62423                                                    \n",
      "[7]\tvalidation-rmse:5.51945                                                    \n",
      "[8]\tvalidation-rmse:5.44585                                                    \n",
      "[9]\tvalidation-rmse:5.39164                                                    \n",
      "  7%|▋         | 2/30 [00:01<00:21,  1.28trial/s, best loss: 5.185443513807581]"
     ]
    },
    {
     "name": "stderr",
     "output_type": "stream",
     "text": [
      "/opt/homebrew/anaconda3/envs/mlops_zoomcamp_env/lib/python3.12/site-packages/sklearn/metrics/_regression.py:492: FutureWarning: 'squared' is deprecated in version 1.4 and will be removed in 1.6. To calculate the root mean squared error, use the function'root_mean_squared_error'.\n",
      "  warnings.warn(\n",
      "\n",
      "/opt/homebrew/anaconda3/envs/mlops_zoomcamp_env/lib/python3.12/site-packages/xgboost/core.py:160: UserWarning: [17:39:31] WARNING: /Users/runner/work/xgboost/xgboost/src/objective/regression_obj.cu:209: reg:linear is now deprecated in favor of reg:squarederror.\n",
      "  warnings.warn(smsg, UserWarning)\n",
      "\n"
     ]
    },
    {
     "name": "stdout",
     "output_type": "stream",
     "text": [
      "[0]\tvalidation-rmse:8.51174                                                    \n",
      "[1]\tvalidation-rmse:7.84428                                                    \n",
      "[2]\tvalidation-rmse:7.29884                                                    \n",
      "[3]\tvalidation-rmse:6.85808                                                    \n",
      "[4]\tvalidation-rmse:6.50552                                                    \n",
      "[5]\tvalidation-rmse:6.22447                                                    \n",
      "[6]\tvalidation-rmse:6.00408                                                    \n",
      "[7]\tvalidation-rmse:5.83142                                                    \n",
      "[8]\tvalidation-rmse:5.69631                                                    \n",
      "[9]\tvalidation-rmse:5.59018                                                    \n",
      "[0]\tvalidation-rmse:8.23864                                                    \n",
      " 10%|█         | 3/30 [00:03<00:32,  1.20s/trial, best loss: 5.185443513807581]"
     ]
    },
    {
     "name": "stderr",
     "output_type": "stream",
     "text": [
      "/opt/homebrew/anaconda3/envs/mlops_zoomcamp_env/lib/python3.12/site-packages/sklearn/metrics/_regression.py:492: FutureWarning: 'squared' is deprecated in version 1.4 and will be removed in 1.6. To calculate the root mean squared error, use the function'root_mean_squared_error'.\n",
      "  warnings.warn(\n",
      "\n",
      "/opt/homebrew/anaconda3/envs/mlops_zoomcamp_env/lib/python3.12/site-packages/xgboost/core.py:160: UserWarning: [17:39:32] WARNING: /Users/runner/work/xgboost/xgboost/src/objective/regression_obj.cu:209: reg:linear is now deprecated in favor of reg:squarederror.\n",
      "  warnings.warn(smsg, UserWarning)\n",
      "\n"
     ]
    },
    {
     "name": "stdout",
     "output_type": "stream",
     "text": [
      "[1]\tvalidation-rmse:7.41293                                                    \n",
      "[2]\tvalidation-rmse:6.79383                                                    \n",
      "[3]\tvalidation-rmse:6.33843                                                    \n",
      "[4]\tvalidation-rmse:6.00925                                                    \n",
      "[5]\tvalidation-rmse:5.76821                                                    \n",
      "[6]\tvalidation-rmse:5.59786                                                    \n",
      "[7]\tvalidation-rmse:5.47704                                                    \n",
      "[8]\tvalidation-rmse:5.39337                                                    \n",
      "[9]\tvalidation-rmse:5.33189                                                    \n",
      "[0]\tvalidation-rmse:7.10114                                                    \n",
      " 13%|█▎        | 4/30 [00:04<00:31,  1.20s/trial, best loss: 5.185443513807581]"
     ]
    },
    {
     "name": "stderr",
     "output_type": "stream",
     "text": [
      "/opt/homebrew/anaconda3/envs/mlops_zoomcamp_env/lib/python3.12/site-packages/sklearn/metrics/_regression.py:492: FutureWarning: 'squared' is deprecated in version 1.4 and will be removed in 1.6. To calculate the root mean squared error, use the function'root_mean_squared_error'.\n",
      "  warnings.warn(\n",
      "\n",
      "/opt/homebrew/anaconda3/envs/mlops_zoomcamp_env/lib/python3.12/site-packages/xgboost/core.py:160: UserWarning: [17:39:34] WARNING: /Users/runner/work/xgboost/xgboost/src/objective/regression_obj.cu:209: reg:linear is now deprecated in favor of reg:squarederror.\n",
      "  warnings.warn(smsg, UserWarning)\n",
      "\n"
     ]
    },
    {
     "name": "stdout",
     "output_type": "stream",
     "text": [
      "[1]\tvalidation-rmse:6.03950                                                    \n",
      "[2]\tvalidation-rmse:5.56491                                                    \n",
      "[3]\tvalidation-rmse:5.35447                                                    \n",
      "[4]\tvalidation-rmse:5.26313                                                    \n",
      "[5]\tvalidation-rmse:5.21923                                                    \n",
      "[6]\tvalidation-rmse:5.20101                                                    \n",
      "[7]\tvalidation-rmse:5.19282                                                    \n",
      "[8]\tvalidation-rmse:5.18700                                                    \n",
      "[9]\tvalidation-rmse:5.17981                                                    \n",
      "[0]\tvalidation-rmse:8.62056                                                    \n",
      " 17%|█▋        | 5/30 [00:05<00:25,  1.01s/trial, best loss: 5.17981477757658]"
     ]
    },
    {
     "name": "stderr",
     "output_type": "stream",
     "text": [
      "/opt/homebrew/anaconda3/envs/mlops_zoomcamp_env/lib/python3.12/site-packages/sklearn/metrics/_regression.py:492: FutureWarning: 'squared' is deprecated in version 1.4 and will be removed in 1.6. To calculate the root mean squared error, use the function'root_mean_squared_error'.\n",
      "  warnings.warn(\n",
      "\n",
      "/opt/homebrew/anaconda3/envs/mlops_zoomcamp_env/lib/python3.12/site-packages/xgboost/core.py:160: UserWarning: [17:39:34] WARNING: /Users/runner/work/xgboost/xgboost/src/objective/regression_obj.cu:209: reg:linear is now deprecated in favor of reg:squarederror.\n",
      "  warnings.warn(smsg, UserWarning)\n",
      "\n"
     ]
    },
    {
     "name": "stdout",
     "output_type": "stream",
     "text": [
      "[1]\tvalidation-rmse:8.02740                                                   \n",
      "[2]\tvalidation-rmse:7.53023                                                   \n",
      "[3]\tvalidation-rmse:7.11489                                                   \n",
      "[4]\tvalidation-rmse:6.77062                                                   \n",
      "[5]\tvalidation-rmse:6.48637                                                   \n",
      "[6]\tvalidation-rmse:6.25404                                                   \n",
      "[7]\tvalidation-rmse:6.06086                                                   \n",
      "[8]\tvalidation-rmse:5.90788                                                   \n",
      "[9]\tvalidation-rmse:5.77826                                                   \n",
      "[0]\tvalidation-rmse:8.12205                                                   \n",
      " 20%|██        | 6/30 [00:06<00:23,  1.03trial/s, best loss: 5.17981477757658]"
     ]
    },
    {
     "name": "stderr",
     "output_type": "stream",
     "text": [
      "/opt/homebrew/anaconda3/envs/mlops_zoomcamp_env/lib/python3.12/site-packages/sklearn/metrics/_regression.py:492: FutureWarning: 'squared' is deprecated in version 1.4 and will be removed in 1.6. To calculate the root mean squared error, use the function'root_mean_squared_error'.\n",
      "  warnings.warn(\n",
      "\n",
      "/opt/homebrew/anaconda3/envs/mlops_zoomcamp_env/lib/python3.12/site-packages/xgboost/core.py:160: UserWarning: [17:39:35] WARNING: /Users/runner/work/xgboost/xgboost/src/objective/regression_obj.cu:209: reg:linear is now deprecated in favor of reg:squarederror.\n",
      "  warnings.warn(smsg, UserWarning)\n",
      "\n"
     ]
    },
    {
     "name": "stdout",
     "output_type": "stream",
     "text": [
      "[1]\tvalidation-rmse:7.24621                                                   \n",
      "[2]\tvalidation-rmse:6.62187                                                   \n",
      "[3]\tvalidation-rmse:6.18580                                                   \n",
      "[4]\tvalidation-rmse:5.88815                                                   \n",
      "[5]\tvalidation-rmse:5.68622                                                   \n",
      "[6]\tvalidation-rmse:5.54879                                                   \n",
      "[7]\tvalidation-rmse:5.45452                                                   \n",
      "[8]\tvalidation-rmse:5.38805                                                   \n",
      "[9]\tvalidation-rmse:5.34085                                                   \n",
      "[0]\tvalidation-rmse:5.76812                                                   \n",
      " 23%|██▎       | 7/30 [00:07<00:21,  1.07trial/s, best loss: 5.17981477757658]"
     ]
    },
    {
     "name": "stderr",
     "output_type": "stream",
     "text": [
      "/opt/homebrew/anaconda3/envs/mlops_zoomcamp_env/lib/python3.12/site-packages/sklearn/metrics/_regression.py:492: FutureWarning: 'squared' is deprecated in version 1.4 and will be removed in 1.6. To calculate the root mean squared error, use the function'root_mean_squared_error'.\n",
      "  warnings.warn(\n",
      "\n",
      "/opt/homebrew/anaconda3/envs/mlops_zoomcamp_env/lib/python3.12/site-packages/xgboost/core.py:160: UserWarning: [17:39:36] WARNING: /Users/runner/work/xgboost/xgboost/src/objective/regression_obj.cu:209: reg:linear is now deprecated in favor of reg:squarederror.\n",
      "  warnings.warn(smsg, UserWarning)\n",
      "\n"
     ]
    },
    {
     "name": "stdout",
     "output_type": "stream",
     "text": [
      "[1]\tvalidation-rmse:5.43462                                                   \n",
      "[2]\tvalidation-rmse:5.39437                                                   \n",
      "[3]\tvalidation-rmse:5.38762                                                   \n",
      "[4]\tvalidation-rmse:5.38232                                                   \n",
      "[5]\tvalidation-rmse:5.35712                                                   \n",
      "[6]\tvalidation-rmse:5.35609                                                   \n",
      "[7]\tvalidation-rmse:5.35722                                                   \n",
      "[8]\tvalidation-rmse:5.35242                                                   \n",
      "[9]\tvalidation-rmse:5.34845                                                   \n",
      " 27%|██▋       | 8/30 [00:07<00:17,  1.26trial/s, best loss: 5.17981477757658]"
     ]
    },
    {
     "name": "stderr",
     "output_type": "stream",
     "text": [
      "/opt/homebrew/anaconda3/envs/mlops_zoomcamp_env/lib/python3.12/site-packages/sklearn/metrics/_regression.py:492: FutureWarning: 'squared' is deprecated in version 1.4 and will be removed in 1.6. To calculate the root mean squared error, use the function'root_mean_squared_error'.\n",
      "  warnings.warn(\n",
      "\n",
      "/opt/homebrew/anaconda3/envs/mlops_zoomcamp_env/lib/python3.12/site-packages/xgboost/core.py:160: UserWarning: [17:39:37] WARNING: /Users/runner/work/xgboost/xgboost/src/objective/regression_obj.cu:209: reg:linear is now deprecated in favor of reg:squarederror.\n",
      "  warnings.warn(smsg, UserWarning)\n",
      "\n"
     ]
    },
    {
     "name": "stdout",
     "output_type": "stream",
     "text": [
      "[0]\tvalidation-rmse:8.78044                                                   \n",
      "[1]\tvalidation-rmse:8.30013                                                   \n",
      "[2]\tvalidation-rmse:7.87656                                                   \n",
      "[3]\tvalidation-rmse:7.50436                                                   \n",
      "[4]\tvalidation-rmse:7.17778                                                   \n",
      "[5]\tvalidation-rmse:6.89315                                                   \n",
      "[6]\tvalidation-rmse:6.64595                                                   \n",
      "[7]\tvalidation-rmse:6.43140                                                   \n",
      "[8]\tvalidation-rmse:6.24668                                                   \n",
      "[9]\tvalidation-rmse:6.08736                                                   \n",
      "[0]\tvalidation-rmse:6.99457                                                   \n",
      " 30%|███       | 9/30 [00:09<00:24,  1.16s/trial, best loss: 5.17981477757658]"
     ]
    },
    {
     "name": "stderr",
     "output_type": "stream",
     "text": [
      "/opt/homebrew/anaconda3/envs/mlops_zoomcamp_env/lib/python3.12/site-packages/sklearn/metrics/_regression.py:492: FutureWarning: 'squared' is deprecated in version 1.4 and will be removed in 1.6. To calculate the root mean squared error, use the function'root_mean_squared_error'.\n",
      "  warnings.warn(\n",
      "\n",
      "/opt/homebrew/anaconda3/envs/mlops_zoomcamp_env/lib/python3.12/site-packages/xgboost/core.py:160: UserWarning: [17:39:39] WARNING: /Users/runner/work/xgboost/xgboost/src/objective/regression_obj.cu:209: reg:linear is now deprecated in favor of reg:squarederror.\n",
      "  warnings.warn(smsg, UserWarning)\n",
      "\n"
     ]
    },
    {
     "name": "stdout",
     "output_type": "stream",
     "text": [
      "[1]\tvalidation-rmse:5.92930                                                   \n",
      "[2]\tvalidation-rmse:5.48315                                                   \n",
      "[3]\tvalidation-rmse:5.30788                                                   \n",
      "[4]\tvalidation-rmse:5.23372                                                   \n",
      "[5]\tvalidation-rmse:5.20376                                                   \n",
      "[6]\tvalidation-rmse:5.18921                                                   \n",
      "[7]\tvalidation-rmse:5.18411                                                   \n",
      "[8]\tvalidation-rmse:5.18033                                                   \n",
      "[9]\tvalidation-rmse:5.17724                                                   \n",
      "[0]\tvalidation-rmse:7.92738                                                     \n",
      " 33%|███▎      | 10/30 [00:10<00:22,  1.11s/trial, best loss: 5.177241217125009]"
     ]
    },
    {
     "name": "stderr",
     "output_type": "stream",
     "text": [
      "/opt/homebrew/anaconda3/envs/mlops_zoomcamp_env/lib/python3.12/site-packages/sklearn/metrics/_regression.py:492: FutureWarning: 'squared' is deprecated in version 1.4 and will be removed in 1.6. To calculate the root mean squared error, use the function'root_mean_squared_error'.\n",
      "  warnings.warn(\n",
      "\n",
      "/opt/homebrew/anaconda3/envs/mlops_zoomcamp_env/lib/python3.12/site-packages/xgboost/core.py:160: UserWarning: [17:39:40] WARNING: /Users/runner/work/xgboost/xgboost/src/objective/regression_obj.cu:209: reg:linear is now deprecated in favor of reg:squarederror.\n",
      "  warnings.warn(smsg, UserWarning)\n",
      "\n"
     ]
    },
    {
     "name": "stdout",
     "output_type": "stream",
     "text": [
      "[1]\tvalidation-rmse:6.97523                                                     \n",
      "[2]\tvalidation-rmse:6.34391                                                     \n",
      "[3]\tvalidation-rmse:5.93674                                                     \n",
      "[4]\tvalidation-rmse:5.67955                                                     \n",
      "[5]\tvalidation-rmse:5.51304                                                     \n",
      "[6]\tvalidation-rmse:5.40793                                                     \n",
      "[7]\tvalidation-rmse:5.34258                                                     \n",
      "[8]\tvalidation-rmse:5.29411                                                     \n",
      "[9]\tvalidation-rmse:5.26281                                                     \n",
      " 37%|███▋      | 11/30 [00:11<00:19,  1.05s/trial, best loss: 5.177241217125009]"
     ]
    },
    {
     "name": "stderr",
     "output_type": "stream",
     "text": [
      "/opt/homebrew/anaconda3/envs/mlops_zoomcamp_env/lib/python3.12/site-packages/sklearn/metrics/_regression.py:492: FutureWarning: 'squared' is deprecated in version 1.4 and will be removed in 1.6. To calculate the root mean squared error, use the function'root_mean_squared_error'.\n",
      "  warnings.warn(\n",
      "\n",
      "/opt/homebrew/anaconda3/envs/mlops_zoomcamp_env/lib/python3.12/site-packages/xgboost/core.py:160: UserWarning: [17:39:40] WARNING: /Users/runner/work/xgboost/xgboost/src/objective/regression_obj.cu:209: reg:linear is now deprecated in favor of reg:squarederror.\n",
      "  warnings.warn(smsg, UserWarning)\n",
      "\n"
     ]
    },
    {
     "name": "stdout",
     "output_type": "stream",
     "text": [
      "[0]\tvalidation-rmse:8.90131                                                     \n",
      "[1]\tvalidation-rmse:8.52229                                                     \n",
      "[2]\tvalidation-rmse:8.18089                                                     \n",
      "[3]\tvalidation-rmse:7.87034                                                     \n",
      "[4]\tvalidation-rmse:7.58561                                                     \n",
      "[5]\tvalidation-rmse:7.33402                                                     \n",
      "[6]\tvalidation-rmse:7.10134                                                     \n",
      "[7]\tvalidation-rmse:6.90149                                                     \n",
      "[8]\tvalidation-rmse:6.71889                                                     \n",
      "[9]\tvalidation-rmse:6.55830                                                     \n",
      " 40%|████      | 12/30 [00:13<00:26,  1.47s/trial, best loss: 5.177241217125009]"
     ]
    },
    {
     "name": "stderr",
     "output_type": "stream",
     "text": [
      "/opt/homebrew/anaconda3/envs/mlops_zoomcamp_env/lib/python3.12/site-packages/sklearn/metrics/_regression.py:492: FutureWarning: 'squared' is deprecated in version 1.4 and will be removed in 1.6. To calculate the root mean squared error, use the function'root_mean_squared_error'.\n",
      "  warnings.warn(\n",
      "\n",
      "/opt/homebrew/anaconda3/envs/mlops_zoomcamp_env/lib/python3.12/site-packages/xgboost/core.py:160: UserWarning: [17:39:43] WARNING: /Users/runner/work/xgboost/xgboost/src/objective/regression_obj.cu:209: reg:linear is now deprecated in favor of reg:squarederror.\n",
      "  warnings.warn(smsg, UserWarning)\n",
      "\n"
     ]
    },
    {
     "name": "stdout",
     "output_type": "stream",
     "text": [
      "[0]\tvalidation-rmse:8.49791                                                     \n",
      "[1]\tvalidation-rmse:7.82055                                                     \n",
      "[2]\tvalidation-rmse:7.26821                                                     \n",
      "[3]\tvalidation-rmse:6.82352                                                     \n",
      "[4]\tvalidation-rmse:6.46594                                                     \n",
      "[5]\tvalidation-rmse:6.18321                                                     \n",
      "[6]\tvalidation-rmse:5.96069                                                     \n",
      "[7]\tvalidation-rmse:5.78587                                                     \n",
      "[8]\tvalidation-rmse:5.64964                                                     \n",
      "[9]\tvalidation-rmse:5.54459                                                     \n",
      "[0]\tvalidation-rmse:8.46072                                                     \n",
      "[1]\tvalidation-rmse:7.77325                                                     \n",
      "[2]\tvalidation-rmse:7.23062                                                     \n",
      "[3]\tvalidation-rmse:6.80655                                                     \n",
      " 43%|████▎     | 13/30 [00:15<00:26,  1.54s/trial, best loss: 5.177241217125009]"
     ]
    },
    {
     "name": "stderr",
     "output_type": "stream",
     "text": [
      "/opt/homebrew/anaconda3/envs/mlops_zoomcamp_env/lib/python3.12/site-packages/sklearn/metrics/_regression.py:492: FutureWarning: 'squared' is deprecated in version 1.4 and will be removed in 1.6. To calculate the root mean squared error, use the function'root_mean_squared_error'.\n",
      "  warnings.warn(\n",
      "\n",
      "/opt/homebrew/anaconda3/envs/mlops_zoomcamp_env/lib/python3.12/site-packages/xgboost/core.py:160: UserWarning: [17:39:45] WARNING: /Users/runner/work/xgboost/xgboost/src/objective/regression_obj.cu:209: reg:linear is now deprecated in favor of reg:squarederror.\n",
      "  warnings.warn(smsg, UserWarning)\n",
      "\n"
     ]
    },
    {
     "name": "stdout",
     "output_type": "stream",
     "text": [
      "[4]\tvalidation-rmse:6.47874                                                     \n",
      "[5]\tvalidation-rmse:6.22676                                                     \n",
      "[6]\tvalidation-rmse:6.03514                                                     \n",
      "[7]\tvalidation-rmse:5.89064                                                     \n",
      "[8]\tvalidation-rmse:5.78149                                                     \n",
      "[9]\tvalidation-rmse:5.69872                                                     \n",
      " 47%|████▋     | 14/30 [00:16<00:19,  1.22s/trial, best loss: 5.177241217125009]"
     ]
    },
    {
     "name": "stderr",
     "output_type": "stream",
     "text": [
      "/opt/homebrew/anaconda3/envs/mlops_zoomcamp_env/lib/python3.12/site-packages/sklearn/metrics/_regression.py:492: FutureWarning: 'squared' is deprecated in version 1.4 and will be removed in 1.6. To calculate the root mean squared error, use the function'root_mean_squared_error'.\n",
      "  warnings.warn(\n",
      "\n",
      "/opt/homebrew/anaconda3/envs/mlops_zoomcamp_env/lib/python3.12/site-packages/xgboost/core.py:160: UserWarning: [17:39:45] WARNING: /Users/runner/work/xgboost/xgboost/src/objective/regression_obj.cu:209: reg:linear is now deprecated in favor of reg:squarederror.\n",
      "  warnings.warn(smsg, UserWarning)\n",
      "\n"
     ]
    },
    {
     "name": "stdout",
     "output_type": "stream",
     "text": [
      "[0]\tvalidation-rmse:8.79147                                                     \n",
      "[1]\tvalidation-rmse:8.31930                                                     \n",
      "[2]\tvalidation-rmse:7.90251                                                     \n",
      "[3]\tvalidation-rmse:7.53610                                                     \n",
      "[4]\tvalidation-rmse:7.21205                                                     \n",
      "[5]\tvalidation-rmse:6.93128                                                     \n",
      "[6]\tvalidation-rmse:6.68539                                                     \n",
      "[7]\tvalidation-rmse:6.47260                                                     \n",
      "[8]\tvalidation-rmse:6.28927                                                     \n",
      "[9]\tvalidation-rmse:6.12885                                                     \n",
      "[0]\tvalidation-rmse:5.79228                                                     \n",
      "[1]\tvalidation-rmse:5.43205                                                     \n",
      "[2]\tvalidation-rmse:5.38789                                                     \n",
      "[3]\tvalidation-rmse:5.38089                                                     \n",
      "[4]\tvalidation-rmse:5.37827                                                     \n",
      "[5]\tvalidation-rmse:5.37021                                                     \n",
      "[6]\tvalidation-rmse:5.36010                                                     \n",
      "[7]\tvalidation-rmse:5.35157                                                     \n",
      "[8]\tvalidation-rmse:5.34952                                                     \n",
      "[9]\tvalidation-rmse:5.34566                                                     \n",
      " 53%|█████▎    | 16/30 [00:18<00:16,  1.18s/trial, best loss: 5.177241217125009]"
     ]
    },
    {
     "name": "stderr",
     "output_type": "stream",
     "text": [
      "/opt/homebrew/anaconda3/envs/mlops_zoomcamp_env/lib/python3.12/site-packages/sklearn/metrics/_regression.py:492: FutureWarning: 'squared' is deprecated in version 1.4 and will be removed in 1.6. To calculate the root mean squared error, use the function'root_mean_squared_error'.\n",
      "  warnings.warn(\n",
      "\n",
      "/opt/homebrew/anaconda3/envs/mlops_zoomcamp_env/lib/python3.12/site-packages/xgboost/core.py:160: UserWarning: [17:39:48] WARNING: /Users/runner/work/xgboost/xgboost/src/objective/regression_obj.cu:209: reg:linear is now deprecated in favor of reg:squarederror.\n",
      "  warnings.warn(smsg, UserWarning)\n",
      "\n",
      "/opt/homebrew/anaconda3/envs/mlops_zoomcamp_env/lib/python3.12/site-packages/sklearn/metrics/_regression.py:492: FutureWarning: 'squared' is deprecated in version 1.4 and will be removed in 1.6. To calculate the root mean squared error, use the function'root_mean_squared_error'.\n",
      "  warnings.warn(\n",
      "\n",
      "/opt/homebrew/anaconda3/envs/mlops_zoomcamp_env/lib/python3.12/site-packages/xgboost/core.py:160: UserWarning: [17:39:48] WARNING: /Users/runner/work/xgboost/xgboost/src/objective/regression_obj.cu:209: reg:linear is now deprecated in favor of reg:squarederror.\n",
      "  warnings.warn(smsg, UserWarning)\n",
      "\n"
     ]
    },
    {
     "name": "stdout",
     "output_type": "stream",
     "text": [
      "[0]\tvalidation-rmse:6.28632                                                     \n",
      "[1]\tvalidation-rmse:5.55110                                                     \n",
      "[2]\tvalidation-rmse:5.40078                                                     \n",
      "[3]\tvalidation-rmse:5.35439                                                     \n",
      "[4]\tvalidation-rmse:5.34252                                                     \n",
      "[5]\tvalidation-rmse:5.34235                                                     \n",
      "[6]\tvalidation-rmse:5.33130                                                     \n",
      "[7]\tvalidation-rmse:5.32785                                                     \n",
      "[8]\tvalidation-rmse:5.32528                                                     \n",
      "[9]\tvalidation-rmse:5.32587                                                     \n",
      "[0]\tvalidation-rmse:6.39473                                                     \n",
      "[1]\tvalidation-rmse:5.64085                                                     \n",
      "[2]\tvalidation-rmse:5.45937                                                     \n",
      "[3]\tvalidation-rmse:5.39568                                                     \n",
      "[4]\tvalidation-rmse:5.36681                                                     \n",
      "[5]\tvalidation-rmse:5.35917                                                     \n",
      "[6]\tvalidation-rmse:5.35052                                                     \n",
      "[7]\tvalidation-rmse:5.33476                                                     \n",
      "[8]\tvalidation-rmse:5.33119                                                     \n",
      "[9]\tvalidation-rmse:5.32793                                                     \n",
      " 60%|██████    | 18/30 [00:19<00:10,  1.17trial/s, best loss: 5.177241217125009]"
     ]
    },
    {
     "name": "stderr",
     "output_type": "stream",
     "text": [
      "/opt/homebrew/anaconda3/envs/mlops_zoomcamp_env/lib/python3.12/site-packages/sklearn/metrics/_regression.py:492: FutureWarning: 'squared' is deprecated in version 1.4 and will be removed in 1.6. To calculate the root mean squared error, use the function'root_mean_squared_error'.\n",
      "  warnings.warn(\n",
      "\n",
      "/opt/homebrew/anaconda3/envs/mlops_zoomcamp_env/lib/python3.12/site-packages/xgboost/core.py:160: UserWarning: [17:39:49] WARNING: /Users/runner/work/xgboost/xgboost/src/objective/regression_obj.cu:209: reg:linear is now deprecated in favor of reg:squarederror.\n",
      "  warnings.warn(smsg, UserWarning)\n",
      "\n",
      "/opt/homebrew/anaconda3/envs/mlops_zoomcamp_env/lib/python3.12/site-packages/sklearn/metrics/_regression.py:492: FutureWarning: 'squared' is deprecated in version 1.4 and will be removed in 1.6. To calculate the root mean squared error, use the function'root_mean_squared_error'.\n",
      "  warnings.warn(\n",
      "\n"
     ]
    },
    {
     "name": "stdout",
     "output_type": "stream",
     "text": [
      "[0]\tvalidation-rmse:7.82571                                                     \n",
      " 60%|██████    | 18/30 [00:20<00:10,  1.17trial/s, best loss: 5.177241217125009]"
     ]
    },
    {
     "name": "stderr",
     "output_type": "stream",
     "text": [
      "/opt/homebrew/anaconda3/envs/mlops_zoomcamp_env/lib/python3.12/site-packages/xgboost/core.py:160: UserWarning: [17:39:49] WARNING: /Users/runner/work/xgboost/xgboost/src/objective/regression_obj.cu:209: reg:linear is now deprecated in favor of reg:squarederror.\n",
      "  warnings.warn(smsg, UserWarning)\n",
      "\n"
     ]
    },
    {
     "name": "stdout",
     "output_type": "stream",
     "text": [
      "[1]\tvalidation-rmse:6.85894                                                     \n",
      "[2]\tvalidation-rmse:6.24797                                                     \n",
      "[3]\tvalidation-rmse:5.86014                                                     \n",
      "[4]\tvalidation-rmse:5.63131                                                     \n",
      "[5]\tvalidation-rmse:5.49379                                                     \n",
      "[6]\tvalidation-rmse:5.41324                                                     \n",
      "[7]\tvalidation-rmse:5.35959                                                     \n",
      "[8]\tvalidation-rmse:5.32969                                                     \n",
      "[9]\tvalidation-rmse:5.29922                                                     \n",
      "[0]\tvalidation-rmse:7.10328                                                     \n",
      " 63%|██████▎   | 19/30 [00:21<00:11,  1.08s/trial, best loss: 5.177241217125009]"
     ]
    },
    {
     "name": "stderr",
     "output_type": "stream",
     "text": [
      "/opt/homebrew/anaconda3/envs/mlops_zoomcamp_env/lib/python3.12/site-packages/sklearn/metrics/_regression.py:492: FutureWarning: 'squared' is deprecated in version 1.4 and will be removed in 1.6. To calculate the root mean squared error, use the function'root_mean_squared_error'.\n",
      "  warnings.warn(\n",
      "\n",
      "/opt/homebrew/anaconda3/envs/mlops_zoomcamp_env/lib/python3.12/site-packages/xgboost/core.py:160: UserWarning: [17:39:51] WARNING: /Users/runner/work/xgboost/xgboost/src/objective/regression_obj.cu:209: reg:linear is now deprecated in favor of reg:squarederror.\n",
      "  warnings.warn(smsg, UserWarning)\n",
      "\n"
     ]
    },
    {
     "name": "stdout",
     "output_type": "stream",
     "text": [
      "[1]\tvalidation-rmse:6.06413                                                     \n",
      "[2]\tvalidation-rmse:5.61673                                                     \n",
      "[3]\tvalidation-rmse:5.42918                                                     \n",
      "[4]\tvalidation-rmse:5.34215                                                     \n",
      "[5]\tvalidation-rmse:5.29869                                                     \n",
      "[6]\tvalidation-rmse:5.27210                                                     \n",
      "[7]\tvalidation-rmse:5.25859                                                     \n",
      "[8]\tvalidation-rmse:5.25062                                                     \n",
      "[9]\tvalidation-rmse:5.23487                                                     \n",
      "[0]\tvalidation-rmse:7.25612                                                     \n",
      "[1]\tvalidation-rmse:6.22379                                                     \n",
      " 67%|██████▋   | 20/30 [00:22<00:09,  1.01trial/s, best loss: 5.177241217125009]"
     ]
    },
    {
     "name": "stderr",
     "output_type": "stream",
     "text": [
      "/opt/homebrew/anaconda3/envs/mlops_zoomcamp_env/lib/python3.12/site-packages/sklearn/metrics/_regression.py:492: FutureWarning: 'squared' is deprecated in version 1.4 and will be removed in 1.6. To calculate the root mean squared error, use the function'root_mean_squared_error'.\n",
      "  warnings.warn(\n",
      "\n",
      "/opt/homebrew/anaconda3/envs/mlops_zoomcamp_env/lib/python3.12/site-packages/xgboost/core.py:160: UserWarning: [17:39:51] WARNING: /Users/runner/work/xgboost/xgboost/src/objective/regression_obj.cu:209: reg:linear is now deprecated in favor of reg:squarederror.\n",
      "  warnings.warn(smsg, UserWarning)\n",
      "\n"
     ]
    },
    {
     "name": "stdout",
     "output_type": "stream",
     "text": [
      "[2]\tvalidation-rmse:5.73982                                                     \n",
      "[3]\tvalidation-rmse:5.52080                                                     \n",
      "[4]\tvalidation-rmse:5.41137                                                     \n",
      "[5]\tvalidation-rmse:5.36052                                                     \n",
      "[6]\tvalidation-rmse:5.33370                                                     \n",
      "[7]\tvalidation-rmse:5.31816                                                     \n",
      "[8]\tvalidation-rmse:5.30312                                                     \n",
      "[9]\tvalidation-rmse:5.29397                                                     \n",
      "[0]\tvalidation-rmse:6.76029                                                     \n",
      " 70%|███████   | 21/30 [00:22<00:07,  1.20trial/s, best loss: 5.177241217125009]"
     ]
    },
    {
     "name": "stderr",
     "output_type": "stream",
     "text": [
      "/opt/homebrew/anaconda3/envs/mlops_zoomcamp_env/lib/python3.12/site-packages/sklearn/metrics/_regression.py:492: FutureWarning: 'squared' is deprecated in version 1.4 and will be removed in 1.6. To calculate the root mean squared error, use the function'root_mean_squared_error'.\n",
      "  warnings.warn(\n",
      "\n",
      "/opt/homebrew/anaconda3/envs/mlops_zoomcamp_env/lib/python3.12/site-packages/xgboost/core.py:160: UserWarning: [17:39:52] WARNING: /Users/runner/work/xgboost/xgboost/src/objective/regression_obj.cu:209: reg:linear is now deprecated in favor of reg:squarederror.\n",
      "  warnings.warn(smsg, UserWarning)\n",
      "\n"
     ]
    },
    {
     "name": "stdout",
     "output_type": "stream",
     "text": [
      "[1]\tvalidation-rmse:5.77354                                                     \n",
      "[2]\tvalidation-rmse:5.42933                                                     \n",
      "[3]\tvalidation-rmse:5.30240                                                     \n",
      "[4]\tvalidation-rmse:5.25518                                                     \n",
      "[5]\tvalidation-rmse:5.23196                                                     \n",
      "[6]\tvalidation-rmse:5.21611                                                     \n",
      "[7]\tvalidation-rmse:5.20361                                                     \n",
      "[8]\tvalidation-rmse:5.19628                                                     \n",
      "[9]\tvalidation-rmse:5.19300                                                     \n",
      "[0]\tvalidation-rmse:7.69414                                                     \n",
      "[1]\tvalidation-rmse:6.72566                                                     \n",
      "[2]\tvalidation-rmse:6.17652                                                     \n",
      "[3]\tvalidation-rmse:5.87059                                                     \n",
      "[4]\tvalidation-rmse:5.70302                                                     \n",
      "[5]\tvalidation-rmse:5.60947                                                     \n",
      "[6]\tvalidation-rmse:5.55885                                                     \n",
      "[7]\tvalidation-rmse:5.52967                                                     \n",
      "[8]\tvalidation-rmse:5.51251                                                     \n",
      "[9]\tvalidation-rmse:5.48825                                                     \n",
      " 77%|███████▋  | 23/30 [00:23<00:04,  1.68trial/s, best loss: 5.177241217125009]"
     ]
    },
    {
     "name": "stderr",
     "output_type": "stream",
     "text": [
      "/opt/homebrew/anaconda3/envs/mlops_zoomcamp_env/lib/python3.12/site-packages/sklearn/metrics/_regression.py:492: FutureWarning: 'squared' is deprecated in version 1.4 and will be removed in 1.6. To calculate the root mean squared error, use the function'root_mean_squared_error'.\n",
      "  warnings.warn(\n",
      "\n",
      "/opt/homebrew/anaconda3/envs/mlops_zoomcamp_env/lib/python3.12/site-packages/xgboost/core.py:160: UserWarning: [17:39:53] WARNING: /Users/runner/work/xgboost/xgboost/src/objective/regression_obj.cu:209: reg:linear is now deprecated in favor of reg:squarederror.\n",
      "  warnings.warn(smsg, UserWarning)\n",
      "\n",
      "/opt/homebrew/anaconda3/envs/mlops_zoomcamp_env/lib/python3.12/site-packages/sklearn/metrics/_regression.py:492: FutureWarning: 'squared' is deprecated in version 1.4 and will be removed in 1.6. To calculate the root mean squared error, use the function'root_mean_squared_error'.\n",
      "  warnings.warn(\n",
      "\n",
      "/opt/homebrew/anaconda3/envs/mlops_zoomcamp_env/lib/python3.12/site-packages/xgboost/core.py:160: UserWarning: [17:39:53] WARNING: /Users/runner/work/xgboost/xgboost/src/objective/regression_obj.cu:209: reg:linear is now deprecated in favor of reg:squarederror.\n",
      "  warnings.warn(smsg, UserWarning)\n",
      "\n"
     ]
    },
    {
     "name": "stdout",
     "output_type": "stream",
     "text": [
      "[0]\tvalidation-rmse:6.55742                                                     \n",
      "[1]\tvalidation-rmse:5.71447                                                     \n",
      "[2]\tvalidation-rmse:5.46522                                                     \n",
      "[3]\tvalidation-rmse:5.38574                                                     \n",
      "[4]\tvalidation-rmse:5.34223                                                     \n",
      "[5]\tvalidation-rmse:5.32410                                                     \n",
      "[6]\tvalidation-rmse:5.31424                                                     \n",
      "[7]\tvalidation-rmse:5.30221                                                     \n",
      "[8]\tvalidation-rmse:5.29033                                                     \n",
      "[9]\tvalidation-rmse:5.28733                                                     \n",
      " 80%|████████  | 24/30 [00:24<00:03,  1.69trial/s, best loss: 5.177241217125009]"
     ]
    },
    {
     "name": "stderr",
     "output_type": "stream",
     "text": [
      "/opt/homebrew/anaconda3/envs/mlops_zoomcamp_env/lib/python3.12/site-packages/sklearn/metrics/_regression.py:492: FutureWarning: 'squared' is deprecated in version 1.4 and will be removed in 1.6. To calculate the root mean squared error, use the function'root_mean_squared_error'.\n",
      "  warnings.warn(\n",
      "\n",
      "/opt/homebrew/anaconda3/envs/mlops_zoomcamp_env/lib/python3.12/site-packages/xgboost/core.py:160: UserWarning: [17:39:53] WARNING: /Users/runner/work/xgboost/xgboost/src/objective/regression_obj.cu:209: reg:linear is now deprecated in favor of reg:squarederror.\n",
      "  warnings.warn(smsg, UserWarning)\n",
      "\n"
     ]
    },
    {
     "name": "stdout",
     "output_type": "stream",
     "text": [
      "[0]\tvalidation-rmse:5.32341                                                     \n",
      "[1]\tvalidation-rmse:5.25363                                                     \n",
      "[2]\tvalidation-rmse:5.26287                                                     \n",
      "[3]\tvalidation-rmse:5.26559                                                     \n",
      "[4]\tvalidation-rmse:5.26254                                                     \n",
      "[5]\tvalidation-rmse:5.26761                                                     \n",
      "[6]\tvalidation-rmse:5.26128                                                     \n",
      "[0]\tvalidation-rmse:7.61615                                                     \n",
      "[1]\tvalidation-rmse:6.59391                                                     \n",
      "[2]\tvalidation-rmse:6.00435                                                     \n",
      " 83%|████████▎ | 25/30 [00:25<00:03,  1.54trial/s, best loss: 5.177241217125009]"
     ]
    },
    {
     "name": "stderr",
     "output_type": "stream",
     "text": [
      "/opt/homebrew/anaconda3/envs/mlops_zoomcamp_env/lib/python3.12/site-packages/sklearn/metrics/_regression.py:492: FutureWarning: 'squared' is deprecated in version 1.4 and will be removed in 1.6. To calculate the root mean squared error, use the function'root_mean_squared_error'.\n",
      "  warnings.warn(\n",
      "\n",
      "/opt/homebrew/anaconda3/envs/mlops_zoomcamp_env/lib/python3.12/site-packages/xgboost/core.py:160: UserWarning: [17:39:54] WARNING: /Users/runner/work/xgboost/xgboost/src/objective/regression_obj.cu:209: reg:linear is now deprecated in favor of reg:squarederror.\n",
      "  warnings.warn(smsg, UserWarning)\n",
      "\n"
     ]
    },
    {
     "name": "stdout",
     "output_type": "stream",
     "text": [
      "[3]\tvalidation-rmse:5.67569                                                     \n",
      "[4]\tvalidation-rmse:5.48927                                                     \n",
      "[5]\tvalidation-rmse:5.38647                                                     \n",
      "[6]\tvalidation-rmse:5.32451                                                     \n",
      "[7]\tvalidation-rmse:5.28563                                                     \n",
      "[8]\tvalidation-rmse:5.26379                                                     \n",
      "[9]\tvalidation-rmse:5.24856                                                     \n",
      "[0]\tvalidation-rmse:5.88459                                                     \n",
      " 87%|████████▋ | 26/30 [00:25<00:02,  1.70trial/s, best loss: 5.177241217125009]"
     ]
    },
    {
     "name": "stderr",
     "output_type": "stream",
     "text": [
      "/opt/homebrew/anaconda3/envs/mlops_zoomcamp_env/lib/python3.12/site-packages/sklearn/metrics/_regression.py:492: FutureWarning: 'squared' is deprecated in version 1.4 and will be removed in 1.6. To calculate the root mean squared error, use the function'root_mean_squared_error'.\n",
      "  warnings.warn(\n",
      "\n",
      "/opt/homebrew/anaconda3/envs/mlops_zoomcamp_env/lib/python3.12/site-packages/xgboost/core.py:160: UserWarning: [17:39:54] WARNING: /Users/runner/work/xgboost/xgboost/src/objective/regression_obj.cu:209: reg:linear is now deprecated in favor of reg:squarederror.\n",
      "  warnings.warn(smsg, UserWarning)\n",
      "\n"
     ]
    },
    {
     "name": "stdout",
     "output_type": "stream",
     "text": [
      "[1]\tvalidation-rmse:5.35169                                                     \n",
      "[2]\tvalidation-rmse:5.26612                                                     \n",
      "[3]\tvalidation-rmse:5.25557                                                     \n",
      "[4]\tvalidation-rmse:5.25340                                                     \n",
      "[5]\tvalidation-rmse:5.25021                                                     \n",
      "[6]\tvalidation-rmse:5.24592                                                     \n",
      "[7]\tvalidation-rmse:5.24159                                                     \n",
      "[8]\tvalidation-rmse:5.23868                                                     \n",
      "[9]\tvalidation-rmse:5.23791                                                     \n",
      "[0]\tvalidation-rmse:6.86802                                                     \n",
      " 90%|█████████ | 27/30 [00:26<00:01,  1.79trial/s, best loss: 5.177241217125009]"
     ]
    },
    {
     "name": "stderr",
     "output_type": "stream",
     "text": [
      "/opt/homebrew/anaconda3/envs/mlops_zoomcamp_env/lib/python3.12/site-packages/sklearn/metrics/_regression.py:492: FutureWarning: 'squared' is deprecated in version 1.4 and will be removed in 1.6. To calculate the root mean squared error, use the function'root_mean_squared_error'.\n",
      "  warnings.warn(\n",
      "\n",
      "/opt/homebrew/anaconda3/envs/mlops_zoomcamp_env/lib/python3.12/site-packages/xgboost/core.py:160: UserWarning: [17:39:55] WARNING: /Users/runner/work/xgboost/xgboost/src/objective/regression_obj.cu:209: reg:linear is now deprecated in favor of reg:squarederror.\n",
      "  warnings.warn(smsg, UserWarning)\n",
      "\n"
     ]
    },
    {
     "name": "stdout",
     "output_type": "stream",
     "text": [
      "[1]\tvalidation-rmse:5.83978                                                     \n",
      "[2]\tvalidation-rmse:5.45273                                                     \n",
      "[3]\tvalidation-rmse:5.31379                                                     \n",
      "[4]\tvalidation-rmse:5.24615                                                     \n",
      "[5]\tvalidation-rmse:5.22104                                                     \n",
      "[6]\tvalidation-rmse:5.20572                                                     \n",
      "[7]\tvalidation-rmse:5.19387                                                     \n",
      "[8]\tvalidation-rmse:5.18714                                                     \n",
      "[9]\tvalidation-rmse:5.18380                                                     \n",
      "[0]\tvalidation-rmse:7.74144                                                     \n",
      " 93%|█████████▎| 28/30 [00:27<00:01,  1.46trial/s, best loss: 5.177241217125009]"
     ]
    },
    {
     "name": "stderr",
     "output_type": "stream",
     "text": [
      "/opt/homebrew/anaconda3/envs/mlops_zoomcamp_env/lib/python3.12/site-packages/sklearn/metrics/_regression.py:492: FutureWarning: 'squared' is deprecated in version 1.4 and will be removed in 1.6. To calculate the root mean squared error, use the function'root_mean_squared_error'.\n",
      "  warnings.warn(\n",
      "\n",
      "/opt/homebrew/anaconda3/envs/mlops_zoomcamp_env/lib/python3.12/site-packages/xgboost/core.py:160: UserWarning: [17:39:56] WARNING: /Users/runner/work/xgboost/xgboost/src/objective/regression_obj.cu:209: reg:linear is now deprecated in favor of reg:squarederror.\n",
      "  warnings.warn(smsg, UserWarning)\n",
      "\n"
     ]
    },
    {
     "name": "stdout",
     "output_type": "stream",
     "text": [
      "[1]\tvalidation-rmse:6.71997                                                     \n",
      "[2]\tvalidation-rmse:6.09203                                                     \n",
      "[3]\tvalidation-rmse:5.71656                                                     \n",
      "[4]\tvalidation-rmse:5.49486                                                     \n",
      "[5]\tvalidation-rmse:5.36456                                                     \n",
      "[6]\tvalidation-rmse:5.28911                                                     \n",
      "[7]\tvalidation-rmse:5.24483                                                     \n",
      "[8]\tvalidation-rmse:5.21390                                                     \n",
      "[9]\tvalidation-rmse:5.19733                                                     \n",
      "[0]\tvalidation-rmse:7.47582                                                     \n",
      " 97%|█████████▋| 29/30 [00:28<00:00,  1.20trial/s, best loss: 5.177241217125009]"
     ]
    },
    {
     "name": "stderr",
     "output_type": "stream",
     "text": [
      "/opt/homebrew/anaconda3/envs/mlops_zoomcamp_env/lib/python3.12/site-packages/sklearn/metrics/_regression.py:492: FutureWarning: 'squared' is deprecated in version 1.4 and will be removed in 1.6. To calculate the root mean squared error, use the function'root_mean_squared_error'.\n",
      "  warnings.warn(\n",
      "\n",
      "/opt/homebrew/anaconda3/envs/mlops_zoomcamp_env/lib/python3.12/site-packages/xgboost/core.py:160: UserWarning: [17:39:57] WARNING: /Users/runner/work/xgboost/xgboost/src/objective/regression_obj.cu:209: reg:linear is now deprecated in favor of reg:squarederror.\n",
      "  warnings.warn(smsg, UserWarning)\n",
      "\n"
     ]
    },
    {
     "name": "stdout",
     "output_type": "stream",
     "text": [
      "[1]\tvalidation-rmse:6.44086                                                     \n",
      "[2]\tvalidation-rmse:5.88997                                                     \n",
      "[3]\tvalidation-rmse:5.60508                                                     \n",
      "[4]\tvalidation-rmse:5.45728                                                     \n",
      "[5]\tvalidation-rmse:5.37785                                                     \n",
      "[6]\tvalidation-rmse:5.33510                                                     \n",
      "[7]\tvalidation-rmse:5.30739                                                     \n",
      "[8]\tvalidation-rmse:5.29299                                                     \n",
      "[9]\tvalidation-rmse:5.27985                                                     \n",
      "100%|██████████| 30/30 [00:29<00:00,  1.03trial/s, best loss: 5.177241217125009]\n"
     ]
    },
    {
     "name": "stderr",
     "output_type": "stream",
     "text": [
      "/opt/homebrew/anaconda3/envs/mlops_zoomcamp_env/lib/python3.12/site-packages/sklearn/metrics/_regression.py:492: FutureWarning: 'squared' is deprecated in version 1.4 and will be removed in 1.6. To calculate the root mean squared error, use the function'root_mean_squared_error'.\n",
      "  warnings.warn(\n",
      "\n"
     ]
    }
   ],
   "source": [
    "search_space = {\n",
    "    'max_depth': scope.int(hp.quniform('max_depth', 4, 100, 1)),\n",
    "    'learning_rate': hp.loguniform('learning_rate', -3, 0),\n",
    "    'reg_alpha': hp.loguniform('reg_alpha', -5, -1),\n",
    "    'reg_lambda': hp.loguniform('reg_lambda', -6, -1),\n",
    "    'min_child_weight': hp.loguniform('min_child_weight', -1, 3),\n",
    "    'objective': 'reg:linear',\n",
    "    'seed': 42\n",
    "}\n",
    "\n",
    "best_result = fmin(\n",
    "    fn=objective,\n",
    "    space=search_space,\n",
    "    algo=tpe.suggest,\n",
    "    max_evals=30,\n",
    "    trials=Trials()\n",
    ")"
   ]
  },
  {
   "cell_type": "code",
   "execution_count": 35,
   "id": "fc4d5283",
   "metadata": {},
   "outputs": [],
   "source": [
    "mlflow.xgboost.autolog(disable=True)"
   ]
  },
  {
   "cell_type": "code",
   "execution_count": 36,
   "id": "0e8cd729",
   "metadata": {},
   "outputs": [
    {
     "name": "stdout",
     "output_type": "stream",
     "text": [
      "[0]\tvalidation-rmse:8.73788\n",
      "[1]\tvalidation-rmse:8.22960\n"
     ]
    },
    {
     "name": "stderr",
     "output_type": "stream",
     "text": [
      "/opt/homebrew/anaconda3/envs/mlops_zoomcamp_env/lib/python3.12/site-packages/xgboost/core.py:160: UserWarning: [16:03:20] WARNING: /Users/runner/work/xgboost/xgboost/src/objective/regression_obj.cu:209: reg:linear is now deprecated in favor of reg:squarederror.\n",
      "  warnings.warn(smsg, UserWarning)\n"
     ]
    },
    {
     "name": "stdout",
     "output_type": "stream",
     "text": [
      "[2]\tvalidation-rmse:7.78914\n",
      "[3]\tvalidation-rmse:7.40823\n",
      "[4]\tvalidation-rmse:7.08398\n",
      "[5]\tvalidation-rmse:6.80130\n",
      "[6]\tvalidation-rmse:6.56559\n",
      "[7]\tvalidation-rmse:6.35942\n",
      "[8]\tvalidation-rmse:6.18716\n",
      "[9]\tvalidation-rmse:6.04364\n",
      "[10]\tvalidation-rmse:5.91994\n",
      "[11]\tvalidation-rmse:5.81441\n",
      "[12]\tvalidation-rmse:5.72701\n",
      "[13]\tvalidation-rmse:5.65236\n",
      "[14]\tvalidation-rmse:5.58821\n",
      "[15]\tvalidation-rmse:5.53629\n",
      "[16]\tvalidation-rmse:5.49451\n",
      "[17]\tvalidation-rmse:5.45443\n",
      "[18]\tvalidation-rmse:5.42147\n",
      "[19]\tvalidation-rmse:5.39347\n",
      "[20]\tvalidation-rmse:5.37267\n",
      "[21]\tvalidation-rmse:5.35128\n",
      "[22]\tvalidation-rmse:5.33257\n",
      "[23]\tvalidation-rmse:5.31780\n",
      "[24]\tvalidation-rmse:5.30449\n",
      "[25]\tvalidation-rmse:5.29542\n",
      "[26]\tvalidation-rmse:5.28365\n",
      "[27]\tvalidation-rmse:5.27505\n",
      "[28]\tvalidation-rmse:5.26725\n",
      "[29]\tvalidation-rmse:5.26004\n"
     ]
    },
    {
     "name": "stderr",
     "output_type": "stream",
     "text": [
      "/opt/homebrew/anaconda3/envs/mlops_zoomcamp_env/lib/python3.12/site-packages/sklearn/metrics/_regression.py:492: FutureWarning: 'squared' is deprecated in version 1.4 and will be removed in 1.6. To calculate the root mean squared error, use the function'root_mean_squared_error'.\n",
      "  warnings.warn(\n",
      "/opt/homebrew/anaconda3/envs/mlops_zoomcamp_env/lib/python3.12/site-packages/xgboost/core.py:160: UserWarning: [16:03:22] WARNING: /Users/runner/work/xgboost/xgboost/src/c_api/c_api.cc:1240: Saving into deprecated binary model format, please consider using `json` or `ubj`. Model format will default to JSON in XGBoost 2.2 if not specified.\n",
      "  warnings.warn(smsg, UserWarning)\n"
     ]
    }
   ],
   "source": [
    "with mlflow.start_run():\n",
    "    \n",
    "    train = xgb.DMatrix(X_train, label=y_train)\n",
    "    valid = xgb.DMatrix(X_val, label=y_val)\n",
    "\n",
    "    best_params = {\n",
    "        'learning_rate': 0.09585355369315604,\n",
    "        'max_depth': 30,\n",
    "        'min_child_weight': 1.060597050922164,\n",
    "        'objective': 'reg:linear',\n",
    "        'reg_alpha': 0.018060244040060163,\n",
    "        'reg_lambda': 0.011658731377413597,\n",
    "        'seed': 42\n",
    "    }\n",
    "\n",
    "    mlflow.log_params(best_params)\n",
    "\n",
    "    booster = xgb.train(\n",
    "        params=best_params,\n",
    "        dtrain=train,\n",
    "        num_boost_round=30,\n",
    "        evals=[(valid, 'validation')],\n",
    "        early_stopping_rounds=20\n",
    "    )\n",
    "\n",
    "    y_pred = booster.predict(valid)\n",
    "    rmse = mean_squared_error(y_val, y_pred, squared=False)\n",
    "    mlflow.log_metric(\"rmse\", rmse)\n",
    "\n",
    "    with open(\"models/preprocessor.b\", \"wb\") as f_out:\n",
    "        pickle.dump(dv, f_out)\n",
    "    mlflow.log_artifact(\"models/preprocessor.b\", artifact_path=\"preprocessor\")\n",
    "\n",
    "    mlflow.xgboost.log_model(booster, artifact_path=\"models_mlflow\")"
   ]
  },
  {
   "cell_type": "code",
   "execution_count": null,
   "id": "c2108f4b",
   "metadata": {},
   "outputs": [],
   "source": []
  },
  {
   "cell_type": "code",
   "execution_count": 23,
   "id": "87614b82",
   "metadata": {},
   "outputs": [
    {
     "name": "stderr",
     "output_type": "stream",
     "text": [
      "/Users/cristian.martinez/miniconda3/envs/exp-tracking-env/lib/python3.9/site-packages/sklearn/svm/_base.py:1206: ConvergenceWarning: Liblinear failed to converge, increase the number of iterations.\n",
      "  warnings.warn(\n"
     ]
    }
   ],
   "source": [
    "from sklearn.ensemble import RandomForestRegressor, GradientBoostingRegressor, ExtraTreesRegressor\n",
    "from sklearn.svm import LinearSVR\n",
    "\n",
    "mlflow.sklearn.autolog()\n",
    "\n",
    "for model_class in (RandomForestRegressor, GradientBoostingRegressor, ExtraTreesRegressor, LinearSVR):\n",
    "\n",
    "    with mlflow.start_run():\n",
    "\n",
    "        mlflow.log_param(\"train-data-path\", \"../data/green_tripdata_2021-01.parquet\")\n",
    "        mlflow.log_param(\"valid-data-path\", \"../data/green_tripdata_2021-02.parquet\")\n",
    "        mlflow.log_artifact(\"models/preprocessor.b\", artifact_path=\"preprocessor\")\n",
    "\n",
    "        mlmodel = model_class()\n",
    "        mlmodel.fit(X_train, y_train)\n",
    "\n",
    "        y_pred = mlmodel.predict(X_val)\n",
    "        rmse = mean_squared_error(y_val, y_pred, squared=False)\n",
    "        mlflow.log_metric(\"rmse\", rmse)\n",
    "        "
   ]
  },
  {
   "cell_type": "code",
   "execution_count": null,
   "id": "6f0813c7",
   "metadata": {},
   "outputs": [],
   "source": []
  },
  {
   "cell_type": "code",
   "execution_count": null,
   "id": "4c489ec5",
   "metadata": {},
   "outputs": [],
   "source": []
  }
 ],
 "metadata": {
  "interpreter": {
   "hash": "0848c9d6c7d415ad6c477ff7ff8e98694d1a4aa96d0deee89244642e6b630036"
  },
  "kernelspec": {
   "display_name": "Python 3 (ipykernel)",
   "language": "python",
   "name": "python3"
  },
  "language_info": {
   "codemirror_mode": {
    "name": "ipython",
    "version": 3
   },
   "file_extension": ".py",
   "mimetype": "text/x-python",
   "name": "python",
   "nbconvert_exporter": "python",
   "pygments_lexer": "ipython3",
   "version": "3.12.3"
  }
 },
 "nbformat": 4,
 "nbformat_minor": 5
}
