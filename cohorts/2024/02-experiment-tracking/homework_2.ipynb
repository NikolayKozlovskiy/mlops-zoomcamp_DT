{
 "cells": [
  {
   "cell_type": "code",
   "execution_count": null,
   "metadata": {},
   "outputs": [],
   "source": [
    "import mlflow"
   ]
  },
  {
   "cell_type": "code",
   "execution_count": null,
   "metadata": {},
   "outputs": [],
   "source": [
    "!mlflow --version"
   ]
  },
  {
   "cell_type": "code",
   "execution_count": null,
   "metadata": {},
   "outputs": [],
   "source": [
    "TAXI_DATA_FOLDER = \"../../../data/input\"\n",
    "HOMEWORK_2_PYTHON_SCRIPTS_FOLDER ='./homework'\n",
    "PREPROCESS_DATA_FILE_PATH = f'{HOMEWORK_2_PYTHON_SCRIPTS_FOLDER}/preprocess_data.py'\n",
    "TRAIN_FILE_PATH = f'{HOMEWORK_2_PYTHON_SCRIPTS_FOLDER}/train.py'\n",
    "HPO_FILE_PATH = f'{HOMEWORK_2_PYTHON_SCRIPTS_FOLDER}/hpo.py'\n",
    "REGISTER_MODEL_FILE_PATH = f'{HOMEWORK_2_PYTHON_SCRIPTS_FOLDER}/register_model.py'\n",
    "\n",
    "MLFLOW_DEFAULT_TRACKING_SERVER_PORT = 5000\n",
    "MLFLOW_DEFAULT_TRACKING_URI = f'http://127.0.0.1:{MLFLOW_DEFAULT_TRACKING_SERVER_PORT}'\n",
    "MLFLOW_DEFAULT_BACKEND_URI = 'sqlite:///mlflow.db'\n",
    "MLFLOW_DEFAULT_ARTIFICAT_PATH = './artificats'"
   ]
  },
  {
   "cell_type": "code",
   "execution_count": null,
   "metadata": {},
   "outputs": [],
   "source": [
    "!python {PREPROCESS_DATA_FILE_PATH} --raw_data_path {TAXI_DATA_FOLDER} --dest_path ./output"
   ]
  },
  {
   "cell_type": "code",
   "execution_count": null,
   "metadata": {},
   "outputs": [],
   "source": [
    "# start tracking server\n",
    "# run in terminal, only demostration purpose\n",
    "!mlflow ui --port {MLFLOW_DEFAULT_TRACKING_SERVER_PORT} --backend-store-uri {MLFLOW_DEFAULT_BACKEND_URI} --default-artifact-root {MLFLOW_DEFAULT_ARTIFICAT_PATH}"
   ]
  },
  {
   "cell_type": "code",
   "execution_count": null,
   "metadata": {},
   "outputs": [],
   "source": [
    "!python {TRAIN_FILE_PATH} --tracking_uri {MLFLOW_DEFAULT_TRACKING_URI}"
   ]
  },
  {
   "cell_type": "code",
   "execution_count": null,
   "metadata": {},
   "outputs": [],
   "source": [
    "!python {HPO_FILE_PATH}"
   ]
  },
  {
   "cell_type": "code",
   "execution_count": null,
   "metadata": {},
   "outputs": [],
   "source": [
    "!python {REGISTER_MODEL_FILE_PATH}"
   ]
  }
 ],
 "metadata": {
  "kernelspec": {
   "display_name": "mlops_zoomcamp_env",
   "language": "python",
   "name": "python3"
  },
  "language_info": {
   "codemirror_mode": {
    "name": "ipython",
    "version": 3
   },
   "file_extension": ".py",
   "mimetype": "text/x-python",
   "name": "python",
   "nbconvert_exporter": "python",
   "pygments_lexer": "ipython3",
   "version": "3.12.3"
  }
 },
 "nbformat": 4,
 "nbformat_minor": 2
}
